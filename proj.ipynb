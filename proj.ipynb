{
 "cells": [
  {
   "cell_type": "code",
   "execution_count": 4,
   "metadata": {},
   "outputs": [],
   "source": [
    "import pandas as pd\n",
    "import numpy as np\n",
    "import json\n",
    "import requests \n",
    "from pathlib import Path"
   ]
  },
  {
   "cell_type": "code",
   "execution_count": null,
   "metadata": {},
   "outputs": [
    {
     "data": {
      "text/html": [
       "<div>\n",
       "<style scoped>\n",
       "    .dataframe tbody tr th:only-of-type {\n",
       "        vertical-align: middle;\n",
       "    }\n",
       "\n",
       "    .dataframe tbody tr th {\n",
       "        vertical-align: top;\n",
       "    }\n",
       "\n",
       "    .dataframe thead th {\n",
       "        text-align: right;\n",
       "    }\n",
       "</style>\n",
       "<table border=\"1\" class=\"dataframe\">\n",
       "  <thead>\n",
       "    <tr style=\"text-align: right;\">\n",
       "      <th></th>\n",
       "      <th>name</th>\n",
       "      <th>uri</th>\n",
       "      <th>dtypes</th>\n",
       "    </tr>\n",
       "  </thead>\n",
       "  <tbody>\n",
       "    <tr>\n",
       "      <th>0</th>\n",
       "      <td>Top VCs</td>\n",
       "      <td>midas</td>\n",
       "      <td>person</td>\n",
       "    </tr>\n",
       "    <tr>\n",
       "      <th>1</th>\n",
       "      <td>Athletes</td>\n",
       "      <td>athletes</td>\n",
       "      <td>person</td>\n",
       "    </tr>\n",
       "    <tr>\n",
       "      <th>2</th>\n",
       "      <td>Richest Families</td>\n",
       "      <td>families</td>\n",
       "      <td>person</td>\n",
       "    </tr>\n",
       "    <tr>\n",
       "      <th>3</th>\n",
       "      <td>Forbes 400</td>\n",
       "      <td>forbes-400</td>\n",
       "      <td>person</td>\n",
       "    </tr>\n",
       "    <tr>\n",
       "      <th>4</th>\n",
       "      <td>Billionaires</td>\n",
       "      <td>billionaires</td>\n",
       "      <td>person</td>\n",
       "    </tr>\n",
       "  </tbody>\n",
       "</table>\n",
       "</div>"
      ],
      "text/plain": [
       "               name           uri  dtypes\n",
       "0           Top VCs         midas  person\n",
       "1          Athletes      athletes  person\n",
       "2  Richest Families      families  person\n",
       "3        Forbes 400    forbes-400  person\n",
       "4      Billionaires  billionaires  person"
      ]
     },
     "metadata": {},
     "output_type": "display_data"
    }
   ],
   "source": [
    "name = [\n",
    "  'Top VCs',\n",
    "  'Athletes',\n",
    "  \"Richest Families\",\n",
    "  'Forbes 400',\n",
    "  'Billionaires',\n",
    "  'Self Made Women',\n",
    "  \"Richest in Tech\",\n",
    "  'Hong Kong 50',\n",
    "  'Australia 50',\n",
    "  'China 50',\n",
    "  'Taiwan 50',\n",
    "  'India 50',\n",
    "  'Japan 50',\n",
    "  'Africa 50',\n",
    "  \"Korea 50\",\n",
    "  'Malaysia 50',\n",
    "  \"Philippines 50\",\n",
    "  'Singapore 50',\n",
    "  'Indonesia 50',\n",
    "  'Thailand 50',\n",
    "  \"Powerful People\",\n",
    "  \"30 Under 30\",\n",
    "  \"Powerful Women\",\n",
    "  \"Celebrities\",\n",
    "  'MLB Valuations',\n",
    "  'NASCAR Valuations',\n",
    "  'NFL Valuations',\n",
    "  'NBA Valuations',\n",
    "  'NHL Valuations',\n",
    "  'Soccer Valuations',\n",
    "  \"Top Colleges\",\n",
    "  \"Top Business Schools\",\n",
    "  \"Innovative Companies\",\n",
    "  \"Small Companies\",\n",
    "  'Best Employers',\n",
    "  \"Largest Private Companies\",\n",
    "  'Asia 200',\n",
    "  'Asia Fab 50',\n",
    "  'Most Promising Companies',\n",
    "  'Powerful Brands',\n",
    "  \"Growth Companies\",\n",
    "  \"Best Employers\",\n",
    "  'Global 2000',\n",
    "  \"Best Countries for Business\",\n",
    "  'Best Cities for Business',\n",
    "  'Best States for Business',\n",
    "  'Best Small Cities for Business'\n",
    "]\n",
    "uri = [\n",
    "  \"midas\",\n",
    "  'athletes',\n",
    "  'families',\n",
    "  'forbes-400',\n",
    "  'billionaires',\n",
    "  'self-made-women',\n",
    "  'richest-in-tech',\n",
    "  'hong-kong-billionaires',\n",
    "  'australia-billionaires',\n",
    "  'china-billionaires',\n",
    "  'taiwan-billionaires',\n",
    "  'india-billionaires',\n",
    "  'japan-billionaires',\n",
    "  'africa-billionaires',\n",
    "  'korea-billionaires',\n",
    "  'malaysia-billionaires',\n",
    "  'philippines-billionaires',\n",
    "  'singapore-billionaires',\n",
    "  'indonesia-billionaires',\n",
    "  'thailand-billionaires',\n",
    "  'powerful-people',\n",
    "  None,\n",
    "  'power-women',\n",
    "  'celebrities',\n",
    "  'mlb-valuations',\n",
    "  'nascar-valuations',\n",
    "  'nfl-valuations',\n",
    "  'nba-valuations',\n",
    "  'nhl-valuations',\n",
    "  'soccer-valuations',\n",
    "  'top-colleges',\n",
    "  'business-schools',\n",
    "  'innovative-companies',\n",
    "  'best-small-companies',\n",
    "  'best-employers',\n",
    "  'largest-private-companies',\n",
    "  'asia200',\n",
    "  'fab50',\n",
    "  'most-promising-companies',\n",
    "  'powerful-brands',\n",
    "  'growth-companies',\n",
    "  'best-employers',\n",
    "  'global2000',\n",
    "  'best-countries-for-business',\n",
    "  'best-places-for-business',\n",
    "  'best-states-for-business',\n",
    "  'best-small-places-for-business'\n",
    "\n",
    "]\n",
    "dtypes = [\n",
    "  \"person\",\n",
    "  'person',\n",
    "  'person',\n",
    "  'person',\n",
    "  'person',\n",
    "  'person',\n",
    "  'person',\n",
    "  'person',\n",
    "  'person',\n",
    "  'person',\n",
    "  'person',\n",
    "  'person',\n",
    "  'person',\n",
    "  'person',\n",
    "  'person',\n",
    "  'person',\n",
    "  'person',\n",
    "  'person',\n",
    "  'person',\n",
    "  'person',\n",
    "  'person',\n",
    "  'person',\n",
    "  'person',\n",
    "  'person',\n",
    "  'organization',\n",
    "  'organization',\n",
    "  'organization',\n",
    "  'organization',\n",
    "  'organization',\n",
    "  'organization',\n",
    "  'organization',\n",
    "  'organization',\n",
    "  'organization',\n",
    "  'organization',\n",
    "  'organization',\n",
    "  'organization',\n",
    "  'organization',\n",
    "  'organization',\n",
    "  'organization',\n",
    "  'organization',\n",
    "  'organization',\n",
    "  'organization',\n",
    "  'organization',\n",
    "  'place',\n",
    "  'place',\n",
    "  'place',\n",
    "  'place'\n",
    "]\n",
    "cols=zip(name, uri, dtypes)\n",
    "list=pd.DataFrame(data=cols, columns=['name', 'uri','dtypes'])\n",
    "list[\"fname\"]=list.name.str.replace(\" \", \"_\")\n",
    "\n",
    "list=list.drop(index=21)\n",
    "\n",
    "list.head()\n"
   ]
  },
  {
   "cell_type": "code",
   "execution_count": 45,
   "metadata": {},
   "outputs": [],
   "source": [
    "for year in range(2010, 2021):\n",
    "    \n",
    "\n",
    "    for index, row in list.iterrows():\n",
    "\n",
    "\n",
    "        params={ 'type': row[\"dtypes\"], 'year': year, 'uri': row.uri }\n",
    "\n",
    "        re = requests.get(url, params=params)\n",
    "        \n",
    "        try:\n",
    "            api_data=re.json()\n",
    "        except JSONDecodeError:\n",
    "            print(f'{params} did not work') \n",
    "             \n",
    "            continue\n",
    "\n",
    "\n",
    "        df=pd.DataFrame(re.json())\n",
    "        \n",
    "        if not df.empty:\n",
    "            df.to_csv(f'data/{year}_{row.fname}.csv')\n",
    "\n"
   ]
  },
  {
   "cell_type": "code",
   "execution_count": 50,
   "metadata": {},
   "outputs": [],
   "source": [
    "df=pd.read_csv('data/2020_Billionaires.csv')"
   ]
  },
  {
   "cell_type": "code",
   "execution_count": 122,
   "metadata": {},
   "outputs": [
    {
     "data": {
      "text/plain": [
       "Index(['Unnamed: 0', 'name', 'lastName', 'uri', 'imageUri', 'worthChange',\n",
       "       'age', 'source', 'industry', 'gender', 'country', 'timestamp',\n",
       "       'headquarters', 'state', 'realTimeWorth', 'realTimeRank',\n",
       "       'realTimePosition', 'squareImage', 'position', 'rank', 'worth', 'title',\n",
       "       'government', 'pay', 'managementAssets'],\n",
       "      dtype='object')"
      ]
     },
     "execution_count": 122,
     "metadata": {},
     "output_type": "execute_result"
    }
   ],
   "source": [
    "df.columns"
   ]
  },
  {
   "cell_type": "code",
   "execution_count": null,
   "metadata": {},
   "outputs": [],
   "source": [
    "df.info"
   ]
  },
  {
   "cell_type": "code",
   "execution_count": 51,
   "metadata": {},
   "outputs": [
    {
     "data": {
      "text/html": [
       "<div>\n",
       "<style scoped>\n",
       "    .dataframe tbody tr th:only-of-type {\n",
       "        vertical-align: middle;\n",
       "    }\n",
       "\n",
       "    .dataframe tbody tr th {\n",
       "        vertical-align: top;\n",
       "    }\n",
       "\n",
       "    .dataframe thead th {\n",
       "        text-align: right;\n",
       "    }\n",
       "</style>\n",
       "<table border=\"1\" class=\"dataframe\">\n",
       "  <thead>\n",
       "    <tr style=\"text-align: right;\">\n",
       "      <th></th>\n",
       "      <th>Unnamed: 0</th>\n",
       "      <th>name</th>\n",
       "      <th>lastName</th>\n",
       "      <th>uri</th>\n",
       "      <th>imageUri</th>\n",
       "      <th>worthChange</th>\n",
       "      <th>age</th>\n",
       "      <th>source</th>\n",
       "      <th>industry</th>\n",
       "      <th>gender</th>\n",
       "      <th>...</th>\n",
       "      <th>realTimeRank</th>\n",
       "      <th>realTimePosition</th>\n",
       "      <th>squareImage</th>\n",
       "      <th>position</th>\n",
       "      <th>rank</th>\n",
       "      <th>worth</th>\n",
       "      <th>title</th>\n",
       "      <th>government</th>\n",
       "      <th>pay</th>\n",
       "      <th>managementAssets</th>\n",
       "    </tr>\n",
       "  </thead>\n",
       "  <tbody>\n",
       "    <tr>\n",
       "      <th>0</th>\n",
       "      <td>0</td>\n",
       "      <td>A. Jayson Adair</td>\n",
       "      <td>Adair</td>\n",
       "      <td>a-jayson-adair</td>\n",
       "      <td>no-pic</td>\n",
       "      <td>-12.191</td>\n",
       "      <td>52.0</td>\n",
       "      <td>damaged cars</td>\n",
       "      <td>Automotive</td>\n",
       "      <td>M</td>\n",
       "      <td>...</td>\n",
       "      <td>2210.0</td>\n",
       "      <td>2210.0</td>\n",
       "      <td>https://specials-images.forbesimg.com/imageser...</td>\n",
       "      <td>NaN</td>\n",
       "      <td>NaN</td>\n",
       "      <td>NaN</td>\n",
       "      <td>NaN</td>\n",
       "      <td>NaN</td>\n",
       "      <td>NaN</td>\n",
       "      <td>NaN</td>\n",
       "    </tr>\n",
       "    <tr>\n",
       "      <th>1</th>\n",
       "      <td>1</td>\n",
       "      <td>Abhay Soi</td>\n",
       "      <td>Soi</td>\n",
       "      <td>abhay-soi</td>\n",
       "      <td>no-pic</td>\n",
       "      <td>31.453</td>\n",
       "      <td>48.0</td>\n",
       "      <td>healthcare</td>\n",
       "      <td>Healthcare</td>\n",
       "      <td>M</td>\n",
       "      <td>...</td>\n",
       "      <td>2576.0</td>\n",
       "      <td>2576.0</td>\n",
       "      <td>https://specials-images.forbesimg.com/imageser...</td>\n",
       "      <td>NaN</td>\n",
       "      <td>NaN</td>\n",
       "      <td>NaN</td>\n",
       "      <td>NaN</td>\n",
       "      <td>NaN</td>\n",
       "      <td>NaN</td>\n",
       "      <td>NaN</td>\n",
       "    </tr>\n",
       "    <tr>\n",
       "      <th>2</th>\n",
       "      <td>2</td>\n",
       "      <td>Adam Foroughi</td>\n",
       "      <td>Foroughi</td>\n",
       "      <td>adam-foroughi</td>\n",
       "      <td>no-pic</td>\n",
       "      <td>-147.507</td>\n",
       "      <td>41.0</td>\n",
       "      <td>mobile games</td>\n",
       "      <td>Media &amp; Entertainment</td>\n",
       "      <td>M</td>\n",
       "      <td>...</td>\n",
       "      <td>1337.0</td>\n",
       "      <td>1337.0</td>\n",
       "      <td>NaN</td>\n",
       "      <td>NaN</td>\n",
       "      <td>NaN</td>\n",
       "      <td>NaN</td>\n",
       "      <td>NaN</td>\n",
       "      <td>NaN</td>\n",
       "      <td>NaN</td>\n",
       "      <td>NaN</td>\n",
       "    </tr>\n",
       "    <tr>\n",
       "      <th>3</th>\n",
       "      <td>3</td>\n",
       "      <td>Adam Neumann</td>\n",
       "      <td>Neumann</td>\n",
       "      <td>adam-neumann</td>\n",
       "      <td>adam-neumann</td>\n",
       "      <td>-19.834</td>\n",
       "      <td>42.0</td>\n",
       "      <td>WeWork</td>\n",
       "      <td>Real Estate</td>\n",
       "      <td>M</td>\n",
       "      <td>...</td>\n",
       "      <td>2081.0</td>\n",
       "      <td>2081.0</td>\n",
       "      <td>//specials-images.forbesimg.com/imageserve/5e7...</td>\n",
       "      <td>NaN</td>\n",
       "      <td>NaN</td>\n",
       "      <td>NaN</td>\n",
       "      <td>NaN</td>\n",
       "      <td>NaN</td>\n",
       "      <td>NaN</td>\n",
       "      <td>NaN</td>\n",
       "    </tr>\n",
       "    <tr>\n",
       "      <th>4</th>\n",
       "      <td>4</td>\n",
       "      <td>Alan Miller &amp; family</td>\n",
       "      <td>Miller</td>\n",
       "      <td>alan-miller-1</td>\n",
       "      <td>no-pic</td>\n",
       "      <td>-5.252</td>\n",
       "      <td>84.0</td>\n",
       "      <td>healthcare services</td>\n",
       "      <td>Healthcare</td>\n",
       "      <td>M</td>\n",
       "      <td>...</td>\n",
       "      <td>2338.0</td>\n",
       "      <td>2338.0</td>\n",
       "      <td>NaN</td>\n",
       "      <td>NaN</td>\n",
       "      <td>NaN</td>\n",
       "      <td>NaN</td>\n",
       "      <td>NaN</td>\n",
       "      <td>NaN</td>\n",
       "      <td>NaN</td>\n",
       "      <td>NaN</td>\n",
       "    </tr>\n",
       "  </tbody>\n",
       "</table>\n",
       "<p>5 rows × 25 columns</p>\n",
       "</div>"
      ],
      "text/plain": [
       "   Unnamed: 0                  name  lastName             uri      imageUri  \\\n",
       "0           0       A. Jayson Adair     Adair  a-jayson-adair        no-pic   \n",
       "1           1             Abhay Soi       Soi       abhay-soi        no-pic   \n",
       "2           2         Adam Foroughi  Foroughi   adam-foroughi        no-pic   \n",
       "3           3          Adam Neumann   Neumann    adam-neumann  adam-neumann   \n",
       "4           4  Alan Miller & family    Miller   alan-miller-1        no-pic   \n",
       "\n",
       "   worthChange   age               source               industry gender  ...  \\\n",
       "0      -12.191  52.0         damaged cars             Automotive      M  ...   \n",
       "1       31.453  48.0           healthcare             Healthcare      M  ...   \n",
       "2     -147.507  41.0         mobile games  Media & Entertainment      M  ...   \n",
       "3      -19.834  42.0              WeWork             Real Estate      M  ...   \n",
       "4       -5.252  84.0  healthcare services             Healthcare      M  ...   \n",
       "\n",
       "  realTimeRank  realTimePosition  \\\n",
       "0       2210.0            2210.0   \n",
       "1       2576.0            2576.0   \n",
       "2       1337.0            1337.0   \n",
       "3       2081.0            2081.0   \n",
       "4       2338.0            2338.0   \n",
       "\n",
       "                                         squareImage position  rank  worth  \\\n",
       "0  https://specials-images.forbesimg.com/imageser...      NaN   NaN    NaN   \n",
       "1  https://specials-images.forbesimg.com/imageser...      NaN   NaN    NaN   \n",
       "2                                                NaN      NaN   NaN    NaN   \n",
       "3  //specials-images.forbesimg.com/imageserve/5e7...      NaN   NaN    NaN   \n",
       "4                                                NaN      NaN   NaN    NaN   \n",
       "\n",
       "   title government  pay  managementAssets  \n",
       "0    NaN        NaN  NaN               NaN  \n",
       "1    NaN        NaN  NaN               NaN  \n",
       "2    NaN        NaN  NaN               NaN  \n",
       "3    NaN        NaN  NaN               NaN  \n",
       "4    NaN        NaN  NaN               NaN  \n",
       "\n",
       "[5 rows x 25 columns]"
      ]
     },
     "execution_count": 51,
     "metadata": {},
     "output_type": "execute_result"
    }
   ],
   "source": [
    "df.head()"
   ]
  },
  {
   "cell_type": "code",
   "execution_count": 67,
   "metadata": {},
   "outputs": [],
   "source": [
    "from bs4 import BeautifulSoup"
   ]
  },
  {
   "cell_type": "code",
   "execution_count": 96,
   "metadata": {},
   "outputs": [
    {
     "name": "stdout",
     "output_type": "stream",
     "text": [
      "a-jayson-adair\n",
      "abhay-soi\n",
      "adam-foroughi\n",
      "adam-neumann\n",
      "alan-miller-1\n",
      "alan-rydge\n",
      "albert-avdolyan\n",
      "alberto-bombassei\n",
      "alberto-prada\n",
      "alex-beard\n"
     ]
    }
   ],
   "source": [
    "for u in df.uri[:10]:\n",
    "    print(u)"
   ]
  },
  {
   "cell_type": "code",
   "execution_count": 121,
   "metadata": {},
   "outputs": [
    {
     "data": {
      "text/plain": [
       "[0, 1, 2, 3, 4, 5, 6, 7, 8, 9]"
      ]
     },
     "execution_count": 121,
     "metadata": {},
     "output_type": "execute_result"
    }
   ],
   "source": [
    "l=[]\n",
    "for index, row in df.iloc[0:10].iterrows():\n",
    "    l.append(index)\n",
    "\n",
    "l"
   ]
  },
  {
   "cell_type": "code",
   "execution_count": 165,
   "metadata": {},
   "outputs": [],
   "source": [
    "data=[l_index, l_text, l_stats]\n",
    "df2=pd.DataFrame(data=data)\n",
    "df2=df2.transpose()"
   ]
  },
  {
   "cell_type": "code",
   "execution_count": 166,
   "metadata": {},
   "outputs": [
    {
     "data": {
      "text/html": [
       "<div>\n",
       "<style scoped>\n",
       "    .dataframe tbody tr th:only-of-type {\n",
       "        vertical-align: middle;\n",
       "    }\n",
       "\n",
       "    .dataframe tbody tr th {\n",
       "        vertical-align: top;\n",
       "    }\n",
       "\n",
       "    .dataframe thead th {\n",
       "        text-align: right;\n",
       "    }\n",
       "</style>\n",
       "<table border=\"1\" class=\"dataframe\">\n",
       "  <thead>\n",
       "    <tr style=\"text-align: right;\">\n",
       "      <th></th>\n",
       "      <th>0</th>\n",
       "      <th>1</th>\n",
       "      <th>2</th>\n",
       "    </tr>\n",
       "  </thead>\n",
       "  <tbody>\n",
       "    <tr>\n",
       "      <th>0</th>\n",
       "      <td>0</td>\n",
       "      <td>A. Jayson \"Jay\" Adair is the CEO of Dallas-bas...</td>\n",
       "      <td>{'Age': '52', 'Source of Wealth': 'damaged car...</td>\n",
       "    </tr>\n",
       "    <tr>\n",
       "      <th>1</th>\n",
       "      <td>1</td>\n",
       "      <td>A. Jayson \"Jay\" Adair is the CEO of Dallas-bas...</td>\n",
       "      <td>{'Age': '48', 'Source of Wealth': 'healthcare,...</td>\n",
       "    </tr>\n",
       "    <tr>\n",
       "      <th>2</th>\n",
       "      <td>2</td>\n",
       "      <td>A. Jayson \"Jay\" Adair is the CEO of Dallas-bas...</td>\n",
       "      <td>{'Age': '41', 'Source of Wealth': 'mobile game...</td>\n",
       "    </tr>\n",
       "    <tr>\n",
       "      <th>3</th>\n",
       "      <td>3</td>\n",
       "      <td>A. Jayson \"Jay\" Adair is the CEO of Dallas-bas...</td>\n",
       "      <td>{'Age': '42', 'Source of Wealth': 'WeWork, Sel...</td>\n",
       "    </tr>\n",
       "    <tr>\n",
       "      <th>4</th>\n",
       "      <td>4</td>\n",
       "      <td>A. Jayson \"Jay\" Adair is the CEO of Dallas-bas...</td>\n",
       "      <td>{'Age': '84', 'Source of Wealth': 'healthcare ...</td>\n",
       "    </tr>\n",
       "    <tr>\n",
       "      <th>...</th>\n",
       "      <td>...</td>\n",
       "      <td>...</td>\n",
       "      <td>...</td>\n",
       "    </tr>\n",
       "    <tr>\n",
       "      <th>1371</th>\n",
       "      <td>1371</td>\n",
       "      <td>A. Jayson \"Jay\" Adair is the CEO of Dallas-bas...</td>\n",
       "      <td>{'Age': '68', 'Source of Wealth': 'mining, met...</td>\n",
       "    </tr>\n",
       "    <tr>\n",
       "      <th>1372</th>\n",
       "      <td>1372</td>\n",
       "      <td>A. Jayson \"Jay\" Adair is the CEO of Dallas-bas...</td>\n",
       "      <td>{'Age': '51', 'Source of Wealth': 'metals, Sel...</td>\n",
       "    </tr>\n",
       "    <tr>\n",
       "      <th>1373</th>\n",
       "      <td>1373</td>\n",
       "      <td>A. Jayson \"Jay\" Adair is the CEO of Dallas-bas...</td>\n",
       "      <td>{'Age': '72', 'Source of Wealth': 'retail, Sel...</td>\n",
       "    </tr>\n",
       "    <tr>\n",
       "      <th>1374</th>\n",
       "      <td>1374</td>\n",
       "      <td>A. Jayson \"Jay\" Adair is the CEO of Dallas-bas...</td>\n",
       "      <td>{'Age': '36', 'Source of Wealth': 'online game...</td>\n",
       "    </tr>\n",
       "    <tr>\n",
       "      <th>1375</th>\n",
       "      <td>1375</td>\n",
       "      <td>A. Jayson \"Jay\" Adair is the CEO of Dallas-bas...</td>\n",
       "      <td>{'Age': '39', 'Source of Wealth': 'online game...</td>\n",
       "    </tr>\n",
       "  </tbody>\n",
       "</table>\n",
       "<p>1376 rows × 3 columns</p>\n",
       "</div>"
      ],
      "text/plain": [
       "         0                                                  1  \\\n",
       "0        0  A. Jayson \"Jay\" Adair is the CEO of Dallas-bas...   \n",
       "1        1  A. Jayson \"Jay\" Adair is the CEO of Dallas-bas...   \n",
       "2        2  A. Jayson \"Jay\" Adair is the CEO of Dallas-bas...   \n",
       "3        3  A. Jayson \"Jay\" Adair is the CEO of Dallas-bas...   \n",
       "4        4  A. Jayson \"Jay\" Adair is the CEO of Dallas-bas...   \n",
       "...    ...                                                ...   \n",
       "1371  1371  A. Jayson \"Jay\" Adair is the CEO of Dallas-bas...   \n",
       "1372  1372  A. Jayson \"Jay\" Adair is the CEO of Dallas-bas...   \n",
       "1373  1373  A. Jayson \"Jay\" Adair is the CEO of Dallas-bas...   \n",
       "1374  1374  A. Jayson \"Jay\" Adair is the CEO of Dallas-bas...   \n",
       "1375  1375  A. Jayson \"Jay\" Adair is the CEO of Dallas-bas...   \n",
       "\n",
       "                                                      2  \n",
       "0     {'Age': '52', 'Source of Wealth': 'damaged car...  \n",
       "1     {'Age': '48', 'Source of Wealth': 'healthcare,...  \n",
       "2     {'Age': '41', 'Source of Wealth': 'mobile game...  \n",
       "3     {'Age': '42', 'Source of Wealth': 'WeWork, Sel...  \n",
       "4     {'Age': '84', 'Source of Wealth': 'healthcare ...  \n",
       "...                                                 ...  \n",
       "1371  {'Age': '68', 'Source of Wealth': 'mining, met...  \n",
       "1372  {'Age': '51', 'Source of Wealth': 'metals, Sel...  \n",
       "1373  {'Age': '72', 'Source of Wealth': 'retail, Sel...  \n",
       "1374  {'Age': '36', 'Source of Wealth': 'online game...  \n",
       "1375  {'Age': '39', 'Source of Wealth': 'online game...  \n",
       "\n",
       "[1376 rows x 3 columns]"
      ]
     },
     "execution_count": 166,
     "metadata": {},
     "output_type": "execute_result"
    }
   ],
   "source": [
    "df2"
   ]
  },
  {
   "cell_type": "code",
   "execution_count": 158,
   "metadata": {},
   "outputs": [
    {
     "data": {
      "text/plain": [
       "1376"
      ]
     },
     "execution_count": 158,
     "metadata": {},
     "output_type": "execute_result"
    }
   ],
   "source": [
    "len(l_text)"
   ]
  },
  {
   "cell_type": "code",
   "execution_count": 159,
   "metadata": {},
   "outputs": [
    {
     "data": {
      "text/plain": [
       "1376"
      ]
     },
     "execution_count": 159,
     "metadata": {},
     "output_type": "execute_result"
    }
   ],
   "source": [
    "len(l_stats)"
   ]
  },
  {
   "cell_type": "code",
   "execution_count": 153,
   "metadata": {},
   "outputs": [
    {
     "ename": "KeyboardInterrupt",
     "evalue": "",
     "output_type": "error",
     "traceback": [
      "\u001b[1;31m---------------------------------------------------------------------------\u001b[0m",
      "\u001b[1;31mKeyboardInterrupt\u001b[0m                         Traceback (most recent call last)",
      "\u001b[1;32m~\\AppData\\Local\\Temp/ipykernel_15456/217133040.py\u001b[0m in \u001b[0;36m<module>\u001b[1;34m\u001b[0m\n\u001b[0;32m     28\u001b[0m     \u001b[0ml_index\u001b[0m\u001b[1;33m.\u001b[0m\u001b[0mappend\u001b[0m\u001b[1;33m(\u001b[0m\u001b[0mindex\u001b[0m\u001b[1;33m)\u001b[0m\u001b[1;33m\u001b[0m\u001b[1;33m\u001b[0m\u001b[0m\n\u001b[0;32m     29\u001b[0m \u001b[1;33m\u001b[0m\u001b[0m\n\u001b[1;32m---> 30\u001b[1;33m     \u001b[0mre\u001b[0m\u001b[1;33m=\u001b[0m\u001b[0mrequests\u001b[0m\u001b[1;33m.\u001b[0m\u001b[0mget\u001b[0m\u001b[1;33m(\u001b[0m\u001b[1;34mf'https://www.forbes.com/profile/{row.uri}'\u001b[0m\u001b[1;33m)\u001b[0m\u001b[1;33m\u001b[0m\u001b[1;33m\u001b[0m\u001b[0m\n\u001b[0m\u001b[0;32m     31\u001b[0m     \u001b[0msoup\u001b[0m\u001b[1;33m=\u001b[0m\u001b[0mBeautifulSoup\u001b[0m\u001b[1;33m(\u001b[0m\u001b[0mre\u001b[0m\u001b[1;33m.\u001b[0m\u001b[0mcontent\u001b[0m\u001b[1;33m,\u001b[0m \u001b[1;34m\"html.parser\"\u001b[0m\u001b[1;33m)\u001b[0m\u001b[1;33m\u001b[0m\u001b[1;33m\u001b[0m\u001b[0m\n\u001b[0;32m     32\u001b[0m \u001b[1;33m\u001b[0m\u001b[0m\n",
      "\u001b[1;32m~\\AppData\\Local\\Programs\\Python\\Python39\\lib\\site-packages\\requests\\api.py\u001b[0m in \u001b[0;36mget\u001b[1;34m(url, params, **kwargs)\u001b[0m\n\u001b[0;32m     73\u001b[0m     \"\"\"\n\u001b[0;32m     74\u001b[0m \u001b[1;33m\u001b[0m\u001b[0m\n\u001b[1;32m---> 75\u001b[1;33m     \u001b[1;32mreturn\u001b[0m \u001b[0mrequest\u001b[0m\u001b[1;33m(\u001b[0m\u001b[1;34m'get'\u001b[0m\u001b[1;33m,\u001b[0m \u001b[0murl\u001b[0m\u001b[1;33m,\u001b[0m \u001b[0mparams\u001b[0m\u001b[1;33m=\u001b[0m\u001b[0mparams\u001b[0m\u001b[1;33m,\u001b[0m \u001b[1;33m**\u001b[0m\u001b[0mkwargs\u001b[0m\u001b[1;33m)\u001b[0m\u001b[1;33m\u001b[0m\u001b[1;33m\u001b[0m\u001b[0m\n\u001b[0m\u001b[0;32m     76\u001b[0m \u001b[1;33m\u001b[0m\u001b[0m\n\u001b[0;32m     77\u001b[0m \u001b[1;33m\u001b[0m\u001b[0m\n",
      "\u001b[1;32m~\\AppData\\Local\\Programs\\Python\\Python39\\lib\\site-packages\\requests\\api.py\u001b[0m in \u001b[0;36mrequest\u001b[1;34m(method, url, **kwargs)\u001b[0m\n\u001b[0;32m     59\u001b[0m     \u001b[1;31m# cases, and look like a memory leak in others.\u001b[0m\u001b[1;33m\u001b[0m\u001b[1;33m\u001b[0m\u001b[0m\n\u001b[0;32m     60\u001b[0m     \u001b[1;32mwith\u001b[0m \u001b[0msessions\u001b[0m\u001b[1;33m.\u001b[0m\u001b[0mSession\u001b[0m\u001b[1;33m(\u001b[0m\u001b[1;33m)\u001b[0m \u001b[1;32mas\u001b[0m \u001b[0msession\u001b[0m\u001b[1;33m:\u001b[0m\u001b[1;33m\u001b[0m\u001b[1;33m\u001b[0m\u001b[0m\n\u001b[1;32m---> 61\u001b[1;33m         \u001b[1;32mreturn\u001b[0m \u001b[0msession\u001b[0m\u001b[1;33m.\u001b[0m\u001b[0mrequest\u001b[0m\u001b[1;33m(\u001b[0m\u001b[0mmethod\u001b[0m\u001b[1;33m=\u001b[0m\u001b[0mmethod\u001b[0m\u001b[1;33m,\u001b[0m \u001b[0murl\u001b[0m\u001b[1;33m=\u001b[0m\u001b[0murl\u001b[0m\u001b[1;33m,\u001b[0m \u001b[1;33m**\u001b[0m\u001b[0mkwargs\u001b[0m\u001b[1;33m)\u001b[0m\u001b[1;33m\u001b[0m\u001b[1;33m\u001b[0m\u001b[0m\n\u001b[0m\u001b[0;32m     62\u001b[0m \u001b[1;33m\u001b[0m\u001b[0m\n\u001b[0;32m     63\u001b[0m \u001b[1;33m\u001b[0m\u001b[0m\n",
      "\u001b[1;32m~\\AppData\\Local\\Programs\\Python\\Python39\\lib\\site-packages\\requests\\sessions.py\u001b[0m in \u001b[0;36mrequest\u001b[1;34m(self, method, url, params, data, headers, cookies, files, auth, timeout, allow_redirects, proxies, hooks, stream, verify, cert, json)\u001b[0m\n\u001b[0;32m    540\u001b[0m         }\n\u001b[0;32m    541\u001b[0m         \u001b[0msend_kwargs\u001b[0m\u001b[1;33m.\u001b[0m\u001b[0mupdate\u001b[0m\u001b[1;33m(\u001b[0m\u001b[0msettings\u001b[0m\u001b[1;33m)\u001b[0m\u001b[1;33m\u001b[0m\u001b[1;33m\u001b[0m\u001b[0m\n\u001b[1;32m--> 542\u001b[1;33m         \u001b[0mresp\u001b[0m \u001b[1;33m=\u001b[0m \u001b[0mself\u001b[0m\u001b[1;33m.\u001b[0m\u001b[0msend\u001b[0m\u001b[1;33m(\u001b[0m\u001b[0mprep\u001b[0m\u001b[1;33m,\u001b[0m \u001b[1;33m**\u001b[0m\u001b[0msend_kwargs\u001b[0m\u001b[1;33m)\u001b[0m\u001b[1;33m\u001b[0m\u001b[1;33m\u001b[0m\u001b[0m\n\u001b[0m\u001b[0;32m    543\u001b[0m \u001b[1;33m\u001b[0m\u001b[0m\n\u001b[0;32m    544\u001b[0m         \u001b[1;32mreturn\u001b[0m \u001b[0mresp\u001b[0m\u001b[1;33m\u001b[0m\u001b[1;33m\u001b[0m\u001b[0m\n",
      "\u001b[1;32m~\\AppData\\Local\\Programs\\Python\\Python39\\lib\\site-packages\\requests\\sessions.py\u001b[0m in \u001b[0;36msend\u001b[1;34m(self, request, **kwargs)\u001b[0m\n\u001b[0;32m    675\u001b[0m             \u001b[1;31m# Redirect resolving generator.\u001b[0m\u001b[1;33m\u001b[0m\u001b[1;33m\u001b[0m\u001b[0m\n\u001b[0;32m    676\u001b[0m             \u001b[0mgen\u001b[0m \u001b[1;33m=\u001b[0m \u001b[0mself\u001b[0m\u001b[1;33m.\u001b[0m\u001b[0mresolve_redirects\u001b[0m\u001b[1;33m(\u001b[0m\u001b[0mr\u001b[0m\u001b[1;33m,\u001b[0m \u001b[0mrequest\u001b[0m\u001b[1;33m,\u001b[0m \u001b[1;33m**\u001b[0m\u001b[0mkwargs\u001b[0m\u001b[1;33m)\u001b[0m\u001b[1;33m\u001b[0m\u001b[1;33m\u001b[0m\u001b[0m\n\u001b[1;32m--> 677\u001b[1;33m             \u001b[0mhistory\u001b[0m \u001b[1;33m=\u001b[0m \u001b[1;33m[\u001b[0m\u001b[0mresp\u001b[0m \u001b[1;32mfor\u001b[0m \u001b[0mresp\u001b[0m \u001b[1;32min\u001b[0m \u001b[0mgen\u001b[0m\u001b[1;33m]\u001b[0m\u001b[1;33m\u001b[0m\u001b[1;33m\u001b[0m\u001b[0m\n\u001b[0m\u001b[0;32m    678\u001b[0m         \u001b[1;32melse\u001b[0m\u001b[1;33m:\u001b[0m\u001b[1;33m\u001b[0m\u001b[1;33m\u001b[0m\u001b[0m\n\u001b[0;32m    679\u001b[0m             \u001b[0mhistory\u001b[0m \u001b[1;33m=\u001b[0m \u001b[1;33m[\u001b[0m\u001b[1;33m]\u001b[0m\u001b[1;33m\u001b[0m\u001b[1;33m\u001b[0m\u001b[0m\n",
      "\u001b[1;32m~\\AppData\\Local\\Programs\\Python\\Python39\\lib\\site-packages\\requests\\sessions.py\u001b[0m in \u001b[0;36m<listcomp>\u001b[1;34m(.0)\u001b[0m\n\u001b[0;32m    675\u001b[0m             \u001b[1;31m# Redirect resolving generator.\u001b[0m\u001b[1;33m\u001b[0m\u001b[1;33m\u001b[0m\u001b[0m\n\u001b[0;32m    676\u001b[0m             \u001b[0mgen\u001b[0m \u001b[1;33m=\u001b[0m \u001b[0mself\u001b[0m\u001b[1;33m.\u001b[0m\u001b[0mresolve_redirects\u001b[0m\u001b[1;33m(\u001b[0m\u001b[0mr\u001b[0m\u001b[1;33m,\u001b[0m \u001b[0mrequest\u001b[0m\u001b[1;33m,\u001b[0m \u001b[1;33m**\u001b[0m\u001b[0mkwargs\u001b[0m\u001b[1;33m)\u001b[0m\u001b[1;33m\u001b[0m\u001b[1;33m\u001b[0m\u001b[0m\n\u001b[1;32m--> 677\u001b[1;33m             \u001b[0mhistory\u001b[0m \u001b[1;33m=\u001b[0m \u001b[1;33m[\u001b[0m\u001b[0mresp\u001b[0m \u001b[1;32mfor\u001b[0m \u001b[0mresp\u001b[0m \u001b[1;32min\u001b[0m \u001b[0mgen\u001b[0m\u001b[1;33m]\u001b[0m\u001b[1;33m\u001b[0m\u001b[1;33m\u001b[0m\u001b[0m\n\u001b[0m\u001b[0;32m    678\u001b[0m         \u001b[1;32melse\u001b[0m\u001b[1;33m:\u001b[0m\u001b[1;33m\u001b[0m\u001b[1;33m\u001b[0m\u001b[0m\n\u001b[0;32m    679\u001b[0m             \u001b[0mhistory\u001b[0m \u001b[1;33m=\u001b[0m \u001b[1;33m[\u001b[0m\u001b[1;33m]\u001b[0m\u001b[1;33m\u001b[0m\u001b[1;33m\u001b[0m\u001b[0m\n",
      "\u001b[1;32m~\\AppData\\Local\\Programs\\Python\\Python39\\lib\\site-packages\\requests\\sessions.py\u001b[0m in \u001b[0;36mresolve_redirects\u001b[1;34m(self, resp, req, stream, timeout, verify, cert, proxies, yield_requests, **adapter_kwargs)\u001b[0m\n\u001b[0;32m    235\u001b[0m             \u001b[1;32melse\u001b[0m\u001b[1;33m:\u001b[0m\u001b[1;33m\u001b[0m\u001b[1;33m\u001b[0m\u001b[0m\n\u001b[0;32m    236\u001b[0m \u001b[1;33m\u001b[0m\u001b[0m\n\u001b[1;32m--> 237\u001b[1;33m                 resp = self.send(\n\u001b[0m\u001b[0;32m    238\u001b[0m                     \u001b[0mreq\u001b[0m\u001b[1;33m,\u001b[0m\u001b[1;33m\u001b[0m\u001b[1;33m\u001b[0m\u001b[0m\n\u001b[0;32m    239\u001b[0m                     \u001b[0mstream\u001b[0m\u001b[1;33m=\u001b[0m\u001b[0mstream\u001b[0m\u001b[1;33m,\u001b[0m\u001b[1;33m\u001b[0m\u001b[1;33m\u001b[0m\u001b[0m\n",
      "\u001b[1;32m~\\AppData\\Local\\Programs\\Python\\Python39\\lib\\site-packages\\requests\\sessions.py\u001b[0m in \u001b[0;36msend\u001b[1;34m(self, request, **kwargs)\u001b[0m\n\u001b[0;32m    653\u001b[0m \u001b[1;33m\u001b[0m\u001b[0m\n\u001b[0;32m    654\u001b[0m         \u001b[1;31m# Send the request\u001b[0m\u001b[1;33m\u001b[0m\u001b[1;33m\u001b[0m\u001b[0m\n\u001b[1;32m--> 655\u001b[1;33m         \u001b[0mr\u001b[0m \u001b[1;33m=\u001b[0m \u001b[0madapter\u001b[0m\u001b[1;33m.\u001b[0m\u001b[0msend\u001b[0m\u001b[1;33m(\u001b[0m\u001b[0mrequest\u001b[0m\u001b[1;33m,\u001b[0m \u001b[1;33m**\u001b[0m\u001b[0mkwargs\u001b[0m\u001b[1;33m)\u001b[0m\u001b[1;33m\u001b[0m\u001b[1;33m\u001b[0m\u001b[0m\n\u001b[0m\u001b[0;32m    656\u001b[0m \u001b[1;33m\u001b[0m\u001b[0m\n\u001b[0;32m    657\u001b[0m         \u001b[1;31m# Total elapsed time of the request (approximately)\u001b[0m\u001b[1;33m\u001b[0m\u001b[1;33m\u001b[0m\u001b[0m\n",
      "\u001b[1;32m~\\AppData\\Local\\Programs\\Python\\Python39\\lib\\site-packages\\requests\\adapters.py\u001b[0m in \u001b[0;36msend\u001b[1;34m(self, request, stream, timeout, verify, cert, proxies)\u001b[0m\n\u001b[0;32m    437\u001b[0m         \u001b[1;32mtry\u001b[0m\u001b[1;33m:\u001b[0m\u001b[1;33m\u001b[0m\u001b[1;33m\u001b[0m\u001b[0m\n\u001b[0;32m    438\u001b[0m             \u001b[1;32mif\u001b[0m \u001b[1;32mnot\u001b[0m \u001b[0mchunked\u001b[0m\u001b[1;33m:\u001b[0m\u001b[1;33m\u001b[0m\u001b[1;33m\u001b[0m\u001b[0m\n\u001b[1;32m--> 439\u001b[1;33m                 resp = conn.urlopen(\n\u001b[0m\u001b[0;32m    440\u001b[0m                     \u001b[0mmethod\u001b[0m\u001b[1;33m=\u001b[0m\u001b[0mrequest\u001b[0m\u001b[1;33m.\u001b[0m\u001b[0mmethod\u001b[0m\u001b[1;33m,\u001b[0m\u001b[1;33m\u001b[0m\u001b[1;33m\u001b[0m\u001b[0m\n\u001b[0;32m    441\u001b[0m                     \u001b[0murl\u001b[0m\u001b[1;33m=\u001b[0m\u001b[0murl\u001b[0m\u001b[1;33m,\u001b[0m\u001b[1;33m\u001b[0m\u001b[1;33m\u001b[0m\u001b[0m\n",
      "\u001b[1;32m~\\AppData\\Local\\Programs\\Python\\Python39\\lib\\site-packages\\urllib3\\connectionpool.py\u001b[0m in \u001b[0;36murlopen\u001b[1;34m(self, method, url, body, headers, retries, redirect, assert_same_host, timeout, pool_timeout, release_conn, chunked, body_pos, **response_kw)\u001b[0m\n\u001b[0;32m    697\u001b[0m \u001b[1;33m\u001b[0m\u001b[0m\n\u001b[0;32m    698\u001b[0m             \u001b[1;31m# Make the request on the httplib connection object.\u001b[0m\u001b[1;33m\u001b[0m\u001b[1;33m\u001b[0m\u001b[0m\n\u001b[1;32m--> 699\u001b[1;33m             httplib_response = self._make_request(\n\u001b[0m\u001b[0;32m    700\u001b[0m                 \u001b[0mconn\u001b[0m\u001b[1;33m,\u001b[0m\u001b[1;33m\u001b[0m\u001b[1;33m\u001b[0m\u001b[0m\n\u001b[0;32m    701\u001b[0m                 \u001b[0mmethod\u001b[0m\u001b[1;33m,\u001b[0m\u001b[1;33m\u001b[0m\u001b[1;33m\u001b[0m\u001b[0m\n",
      "\u001b[1;32m~\\AppData\\Local\\Programs\\Python\\Python39\\lib\\site-packages\\urllib3\\connectionpool.py\u001b[0m in \u001b[0;36m_make_request\u001b[1;34m(self, conn, method, url, timeout, chunked, **httplib_request_kw)\u001b[0m\n\u001b[0;32m    443\u001b[0m                     \u001b[1;31m# Python 3 (including for exceptions like SystemExit).\u001b[0m\u001b[1;33m\u001b[0m\u001b[1;33m\u001b[0m\u001b[0m\n\u001b[0;32m    444\u001b[0m                     \u001b[1;31m# Otherwise it looks like a bug in the code.\u001b[0m\u001b[1;33m\u001b[0m\u001b[1;33m\u001b[0m\u001b[0m\n\u001b[1;32m--> 445\u001b[1;33m                     \u001b[0msix\u001b[0m\u001b[1;33m.\u001b[0m\u001b[0mraise_from\u001b[0m\u001b[1;33m(\u001b[0m\u001b[0me\u001b[0m\u001b[1;33m,\u001b[0m \u001b[1;32mNone\u001b[0m\u001b[1;33m)\u001b[0m\u001b[1;33m\u001b[0m\u001b[1;33m\u001b[0m\u001b[0m\n\u001b[0m\u001b[0;32m    446\u001b[0m         \u001b[1;32mexcept\u001b[0m \u001b[1;33m(\u001b[0m\u001b[0mSocketTimeout\u001b[0m\u001b[1;33m,\u001b[0m \u001b[0mBaseSSLError\u001b[0m\u001b[1;33m,\u001b[0m \u001b[0mSocketError\u001b[0m\u001b[1;33m)\u001b[0m \u001b[1;32mas\u001b[0m \u001b[0me\u001b[0m\u001b[1;33m:\u001b[0m\u001b[1;33m\u001b[0m\u001b[1;33m\u001b[0m\u001b[0m\n\u001b[0;32m    447\u001b[0m             \u001b[0mself\u001b[0m\u001b[1;33m.\u001b[0m\u001b[0m_raise_timeout\u001b[0m\u001b[1;33m(\u001b[0m\u001b[0merr\u001b[0m\u001b[1;33m=\u001b[0m\u001b[0me\u001b[0m\u001b[1;33m,\u001b[0m \u001b[0murl\u001b[0m\u001b[1;33m=\u001b[0m\u001b[0murl\u001b[0m\u001b[1;33m,\u001b[0m \u001b[0mtimeout_value\u001b[0m\u001b[1;33m=\u001b[0m\u001b[0mread_timeout\u001b[0m\u001b[1;33m)\u001b[0m\u001b[1;33m\u001b[0m\u001b[1;33m\u001b[0m\u001b[0m\n",
      "\u001b[1;32m~\\AppData\\Local\\Programs\\Python\\Python39\\lib\\site-packages\\urllib3\\packages\\six.py\u001b[0m in \u001b[0;36mraise_from\u001b[1;34m(value, from_value)\u001b[0m\n",
      "\u001b[1;32m~\\AppData\\Local\\Programs\\Python\\Python39\\lib\\site-packages\\urllib3\\connectionpool.py\u001b[0m in \u001b[0;36m_make_request\u001b[1;34m(self, conn, method, url, timeout, chunked, **httplib_request_kw)\u001b[0m\n\u001b[0;32m    438\u001b[0m                 \u001b[1;31m# Python 3\u001b[0m\u001b[1;33m\u001b[0m\u001b[1;33m\u001b[0m\u001b[0m\n\u001b[0;32m    439\u001b[0m                 \u001b[1;32mtry\u001b[0m\u001b[1;33m:\u001b[0m\u001b[1;33m\u001b[0m\u001b[1;33m\u001b[0m\u001b[0m\n\u001b[1;32m--> 440\u001b[1;33m                     \u001b[0mhttplib_response\u001b[0m \u001b[1;33m=\u001b[0m \u001b[0mconn\u001b[0m\u001b[1;33m.\u001b[0m\u001b[0mgetresponse\u001b[0m\u001b[1;33m(\u001b[0m\u001b[1;33m)\u001b[0m\u001b[1;33m\u001b[0m\u001b[1;33m\u001b[0m\u001b[0m\n\u001b[0m\u001b[0;32m    441\u001b[0m                 \u001b[1;32mexcept\u001b[0m \u001b[0mBaseException\u001b[0m \u001b[1;32mas\u001b[0m \u001b[0me\u001b[0m\u001b[1;33m:\u001b[0m\u001b[1;33m\u001b[0m\u001b[1;33m\u001b[0m\u001b[0m\n\u001b[0;32m    442\u001b[0m                     \u001b[1;31m# Remove the TypeError from the exception chain in\u001b[0m\u001b[1;33m\u001b[0m\u001b[1;33m\u001b[0m\u001b[0m\n",
      "\u001b[1;32m~\\AppData\\Local\\Programs\\Python\\Python39\\lib\\http\\client.py\u001b[0m in \u001b[0;36mgetresponse\u001b[1;34m(self)\u001b[0m\n\u001b[0;32m   1369\u001b[0m         \u001b[1;32mtry\u001b[0m\u001b[1;33m:\u001b[0m\u001b[1;33m\u001b[0m\u001b[1;33m\u001b[0m\u001b[0m\n\u001b[0;32m   1370\u001b[0m             \u001b[1;32mtry\u001b[0m\u001b[1;33m:\u001b[0m\u001b[1;33m\u001b[0m\u001b[1;33m\u001b[0m\u001b[0m\n\u001b[1;32m-> 1371\u001b[1;33m                 \u001b[0mresponse\u001b[0m\u001b[1;33m.\u001b[0m\u001b[0mbegin\u001b[0m\u001b[1;33m(\u001b[0m\u001b[1;33m)\u001b[0m\u001b[1;33m\u001b[0m\u001b[1;33m\u001b[0m\u001b[0m\n\u001b[0m\u001b[0;32m   1372\u001b[0m             \u001b[1;32mexcept\u001b[0m \u001b[0mConnectionError\u001b[0m\u001b[1;33m:\u001b[0m\u001b[1;33m\u001b[0m\u001b[1;33m\u001b[0m\u001b[0m\n\u001b[0;32m   1373\u001b[0m                 \u001b[0mself\u001b[0m\u001b[1;33m.\u001b[0m\u001b[0mclose\u001b[0m\u001b[1;33m(\u001b[0m\u001b[1;33m)\u001b[0m\u001b[1;33m\u001b[0m\u001b[1;33m\u001b[0m\u001b[0m\n",
      "\u001b[1;32m~\\AppData\\Local\\Programs\\Python\\Python39\\lib\\http\\client.py\u001b[0m in \u001b[0;36mbegin\u001b[1;34m(self)\u001b[0m\n\u001b[0;32m    317\u001b[0m         \u001b[1;31m# read until we get a non-100 response\u001b[0m\u001b[1;33m\u001b[0m\u001b[1;33m\u001b[0m\u001b[0m\n\u001b[0;32m    318\u001b[0m         \u001b[1;32mwhile\u001b[0m \u001b[1;32mTrue\u001b[0m\u001b[1;33m:\u001b[0m\u001b[1;33m\u001b[0m\u001b[1;33m\u001b[0m\u001b[0m\n\u001b[1;32m--> 319\u001b[1;33m             \u001b[0mversion\u001b[0m\u001b[1;33m,\u001b[0m \u001b[0mstatus\u001b[0m\u001b[1;33m,\u001b[0m \u001b[0mreason\u001b[0m \u001b[1;33m=\u001b[0m \u001b[0mself\u001b[0m\u001b[1;33m.\u001b[0m\u001b[0m_read_status\u001b[0m\u001b[1;33m(\u001b[0m\u001b[1;33m)\u001b[0m\u001b[1;33m\u001b[0m\u001b[1;33m\u001b[0m\u001b[0m\n\u001b[0m\u001b[0;32m    320\u001b[0m             \u001b[1;32mif\u001b[0m \u001b[0mstatus\u001b[0m \u001b[1;33m!=\u001b[0m \u001b[0mCONTINUE\u001b[0m\u001b[1;33m:\u001b[0m\u001b[1;33m\u001b[0m\u001b[1;33m\u001b[0m\u001b[0m\n\u001b[0;32m    321\u001b[0m                 \u001b[1;32mbreak\u001b[0m\u001b[1;33m\u001b[0m\u001b[1;33m\u001b[0m\u001b[0m\n",
      "\u001b[1;32m~\\AppData\\Local\\Programs\\Python\\Python39\\lib\\http\\client.py\u001b[0m in \u001b[0;36m_read_status\u001b[1;34m(self)\u001b[0m\n\u001b[0;32m    278\u001b[0m \u001b[1;33m\u001b[0m\u001b[0m\n\u001b[0;32m    279\u001b[0m     \u001b[1;32mdef\u001b[0m \u001b[0m_read_status\u001b[0m\u001b[1;33m(\u001b[0m\u001b[0mself\u001b[0m\u001b[1;33m)\u001b[0m\u001b[1;33m:\u001b[0m\u001b[1;33m\u001b[0m\u001b[1;33m\u001b[0m\u001b[0m\n\u001b[1;32m--> 280\u001b[1;33m         \u001b[0mline\u001b[0m \u001b[1;33m=\u001b[0m \u001b[0mstr\u001b[0m\u001b[1;33m(\u001b[0m\u001b[0mself\u001b[0m\u001b[1;33m.\u001b[0m\u001b[0mfp\u001b[0m\u001b[1;33m.\u001b[0m\u001b[0mreadline\u001b[0m\u001b[1;33m(\u001b[0m\u001b[0m_MAXLINE\u001b[0m \u001b[1;33m+\u001b[0m \u001b[1;36m1\u001b[0m\u001b[1;33m)\u001b[0m\u001b[1;33m,\u001b[0m \u001b[1;34m\"iso-8859-1\"\u001b[0m\u001b[1;33m)\u001b[0m\u001b[1;33m\u001b[0m\u001b[1;33m\u001b[0m\u001b[0m\n\u001b[0m\u001b[0;32m    281\u001b[0m         \u001b[1;32mif\u001b[0m \u001b[0mlen\u001b[0m\u001b[1;33m(\u001b[0m\u001b[0mline\u001b[0m\u001b[1;33m)\u001b[0m \u001b[1;33m>\u001b[0m \u001b[0m_MAXLINE\u001b[0m\u001b[1;33m:\u001b[0m\u001b[1;33m\u001b[0m\u001b[1;33m\u001b[0m\u001b[0m\n\u001b[0;32m    282\u001b[0m             \u001b[1;32mraise\u001b[0m \u001b[0mLineTooLong\u001b[0m\u001b[1;33m(\u001b[0m\u001b[1;34m\"status line\"\u001b[0m\u001b[1;33m)\u001b[0m\u001b[1;33m\u001b[0m\u001b[1;33m\u001b[0m\u001b[0m\n",
      "\u001b[1;32m~\\AppData\\Local\\Programs\\Python\\Python39\\lib\\socket.py\u001b[0m in \u001b[0;36mreadinto\u001b[1;34m(self, b)\u001b[0m\n\u001b[0;32m    702\u001b[0m         \u001b[1;32mwhile\u001b[0m \u001b[1;32mTrue\u001b[0m\u001b[1;33m:\u001b[0m\u001b[1;33m\u001b[0m\u001b[1;33m\u001b[0m\u001b[0m\n\u001b[0;32m    703\u001b[0m             \u001b[1;32mtry\u001b[0m\u001b[1;33m:\u001b[0m\u001b[1;33m\u001b[0m\u001b[1;33m\u001b[0m\u001b[0m\n\u001b[1;32m--> 704\u001b[1;33m                 \u001b[1;32mreturn\u001b[0m \u001b[0mself\u001b[0m\u001b[1;33m.\u001b[0m\u001b[0m_sock\u001b[0m\u001b[1;33m.\u001b[0m\u001b[0mrecv_into\u001b[0m\u001b[1;33m(\u001b[0m\u001b[0mb\u001b[0m\u001b[1;33m)\u001b[0m\u001b[1;33m\u001b[0m\u001b[1;33m\u001b[0m\u001b[0m\n\u001b[0m\u001b[0;32m    705\u001b[0m             \u001b[1;32mexcept\u001b[0m \u001b[0mtimeout\u001b[0m\u001b[1;33m:\u001b[0m\u001b[1;33m\u001b[0m\u001b[1;33m\u001b[0m\u001b[0m\n\u001b[0;32m    706\u001b[0m                 \u001b[0mself\u001b[0m\u001b[1;33m.\u001b[0m\u001b[0m_timeout_occurred\u001b[0m \u001b[1;33m=\u001b[0m \u001b[1;32mTrue\u001b[0m\u001b[1;33m\u001b[0m\u001b[1;33m\u001b[0m\u001b[0m\n",
      "\u001b[1;32m~\\AppData\\Local\\Programs\\Python\\Python39\\lib\\ssl.py\u001b[0m in \u001b[0;36mrecv_into\u001b[1;34m(self, buffer, nbytes, flags)\u001b[0m\n\u001b[0;32m   1239\u001b[0m                   \u001b[1;34m\"non-zero flags not allowed in calls to recv_into() on %s\"\u001b[0m \u001b[1;33m%\u001b[0m\u001b[1;33m\u001b[0m\u001b[1;33m\u001b[0m\u001b[0m\n\u001b[0;32m   1240\u001b[0m                   self.__class__)\n\u001b[1;32m-> 1241\u001b[1;33m             \u001b[1;32mreturn\u001b[0m \u001b[0mself\u001b[0m\u001b[1;33m.\u001b[0m\u001b[0mread\u001b[0m\u001b[1;33m(\u001b[0m\u001b[0mnbytes\u001b[0m\u001b[1;33m,\u001b[0m \u001b[0mbuffer\u001b[0m\u001b[1;33m)\u001b[0m\u001b[1;33m\u001b[0m\u001b[1;33m\u001b[0m\u001b[0m\n\u001b[0m\u001b[0;32m   1242\u001b[0m         \u001b[1;32melse\u001b[0m\u001b[1;33m:\u001b[0m\u001b[1;33m\u001b[0m\u001b[1;33m\u001b[0m\u001b[0m\n\u001b[0;32m   1243\u001b[0m             \u001b[1;32mreturn\u001b[0m \u001b[0msuper\u001b[0m\u001b[1;33m(\u001b[0m\u001b[1;33m)\u001b[0m\u001b[1;33m.\u001b[0m\u001b[0mrecv_into\u001b[0m\u001b[1;33m(\u001b[0m\u001b[0mbuffer\u001b[0m\u001b[1;33m,\u001b[0m \u001b[0mnbytes\u001b[0m\u001b[1;33m,\u001b[0m \u001b[0mflags\u001b[0m\u001b[1;33m)\u001b[0m\u001b[1;33m\u001b[0m\u001b[1;33m\u001b[0m\u001b[0m\n",
      "\u001b[1;32m~\\AppData\\Local\\Programs\\Python\\Python39\\lib\\ssl.py\u001b[0m in \u001b[0;36mread\u001b[1;34m(self, len, buffer)\u001b[0m\n\u001b[0;32m   1097\u001b[0m         \u001b[1;32mtry\u001b[0m\u001b[1;33m:\u001b[0m\u001b[1;33m\u001b[0m\u001b[1;33m\u001b[0m\u001b[0m\n\u001b[0;32m   1098\u001b[0m             \u001b[1;32mif\u001b[0m \u001b[0mbuffer\u001b[0m \u001b[1;32mis\u001b[0m \u001b[1;32mnot\u001b[0m \u001b[1;32mNone\u001b[0m\u001b[1;33m:\u001b[0m\u001b[1;33m\u001b[0m\u001b[1;33m\u001b[0m\u001b[0m\n\u001b[1;32m-> 1099\u001b[1;33m                 \u001b[1;32mreturn\u001b[0m \u001b[0mself\u001b[0m\u001b[1;33m.\u001b[0m\u001b[0m_sslobj\u001b[0m\u001b[1;33m.\u001b[0m\u001b[0mread\u001b[0m\u001b[1;33m(\u001b[0m\u001b[0mlen\u001b[0m\u001b[1;33m,\u001b[0m \u001b[0mbuffer\u001b[0m\u001b[1;33m)\u001b[0m\u001b[1;33m\u001b[0m\u001b[1;33m\u001b[0m\u001b[0m\n\u001b[0m\u001b[0;32m   1100\u001b[0m             \u001b[1;32melse\u001b[0m\u001b[1;33m:\u001b[0m\u001b[1;33m\u001b[0m\u001b[1;33m\u001b[0m\u001b[0m\n\u001b[0;32m   1101\u001b[0m                 \u001b[1;32mreturn\u001b[0m \u001b[0mself\u001b[0m\u001b[1;33m.\u001b[0m\u001b[0m_sslobj\u001b[0m\u001b[1;33m.\u001b[0m\u001b[0mread\u001b[0m\u001b[1;33m(\u001b[0m\u001b[0mlen\u001b[0m\u001b[1;33m)\u001b[0m\u001b[1;33m\u001b[0m\u001b[1;33m\u001b[0m\u001b[0m\n",
      "\u001b[1;31mKeyboardInterrupt\u001b[0m: "
     ]
    }
   ],
   "source": [
    "def get_stats(soup):\n",
    "    stats=soup.find_all(class_=\"listuser-block__item\")\n",
    "    title=[]\n",
    "    value=[]\n",
    "\n",
    "    if stats:\n",
    "        for n_stat in stats:\n",
    "            # print(n_stat)\n",
    "            title.append(n_stat.find(class_=\"profile-stats__title\").text)\n",
    "            value.append(n_stat.find(class_=\"profile-stats__text\").text)\n",
    "\n",
    "    return dict(zip(title, value))\n",
    "\n",
    "\n",
    "def get_text(soup):\n",
    "    txt=soup.find(class_='profile-text')\n",
    "    s=\"\"\n",
    "    if txt:\n",
    "        for line in text.ul.children:\n",
    "            s+=(line.text)\n",
    "    return s\n",
    "\n",
    "#lists \n",
    "l_index=[]\n",
    "l_text=[]\n",
    "l_stats=[]\n",
    "for index, row in df.iterrows():\n",
    "    l_index.append(index)\n",
    "\n",
    "    re=requests.get(f'https://www.forbes.com/profile/{row.uri}')\n",
    "    soup=BeautifulSoup(re.content, \"html.parser\")\n",
    "\n",
    "    l_text.append(get_text(soup))\n",
    "    l_stats.append(get_stats(soup))\n",
    "    \n",
    "\n"
   ]
  },
  {
   "cell_type": "code",
   "execution_count": 149,
   "metadata": {},
   "outputs": [
    {
     "data": {
      "text/plain": [
       "'https://www.forbes.com/profile/an-shu/'"
      ]
     },
     "execution_count": 149,
     "metadata": {},
     "output_type": "execute_result"
    }
   ],
   "source": [
    "re.url"
   ]
  },
  {
   "cell_type": "code",
   "execution_count": 152,
   "metadata": {},
   "outputs": [
    {
     "data": {
      "text/plain": [
       "\"Alex Birkenstock is an heir to German footwear company Birkenstock, which traces its roots back to 1774.The company began making its trademark sandals in the 1960s, under the leadership of Alex's father, Karl Birkenstock.In 2002, Alex and his two brothers, Christian and Stephan, were given control of the company.Stephan Birkenstock sold his stake to his two brothers in 2013 for an undisclosed amount.In February 2021, the brothers agreed to sell a majority to L Catterton and Bernard Arnault's holding company Financière Agache in $4.7 billion deal.\""
      ]
     },
     "execution_count": 152,
     "metadata": {},
     "output_type": "execute_result"
    }
   ],
   "source": [
    "l_text[10]"
   ]
  },
  {
   "cell_type": "code",
   "execution_count": null,
   "metadata": {},
   "outputs": [
    {
     "data": {
      "text/plain": [
       "'A. Jayson \"Jay\" Adair is the CEO of Dallas-based Copart, a leader in online auctions for used and totaled cars.He joined the company in 1989 at age 19 as a manager; Copart\\'s founder, Willis Johnson, is Adair\\'s father-in-law.Adair pioneered Copart\\'s move into online auctions in 1998, and by 2003, the company eliminated in-person bids and put auctions 100% online.He took over as Copart\\'s CEO in 2010 after Johnson stepped down and now owns about 4% of the company\\'s stock.As CEO, Adair expanded Copart\\'s physical footprint to 243 locations in 11 countries.'"
      ]
     },
     "metadata": {},
     "output_type": "display_data"
    }
   ],
   "source": [
    "# for uri in df.uri\n",
    "\n",
    "re=requests.get(f'https://www.forbes.com/profile/{uri}')\n",
    "soup=BeautifulSoup(re.content, \"html.parser\")\n",
    "\n",
    "text=soup.find(class_='profile-text')\n",
    "s=\"\"\n",
    "for line in text.ul.children:\n",
    "    s+=(line.text)\n",
    "\n"
   ]
  },
  {
   "cell_type": "code",
   "execution_count": 141,
   "metadata": {},
   "outputs": [
    {
     "data": {
      "text/plain": [
       "{'Age': '57',\n",
       " 'Source of Wealth': 'Microsoft',\n",
       " 'Self-Made Score': '2',\n",
       " 'Philanthropy Score': '4',\n",
       " 'Residence': 'Medina, Washington',\n",
       " 'Citizenship': 'United States',\n",
       " 'Marital Status': 'Divorced',\n",
       " 'Children': '3',\n",
       " 'Education': 'Bachelor of Arts/Science, Duke University; Master of Business Administration, Fuqua School of Business'}"
      ]
     },
     "execution_count": 141,
     "metadata": {},
     "output_type": "execute_result"
    }
   ],
   "source": [
    "get_stats(soup)"
   ]
  },
  {
   "cell_type": "code",
   "execution_count": 137,
   "metadata": {},
   "outputs": [
    {
     "data": {
      "text/plain": [
       "'<div class=\"fbs-slider__slides\" style=\"width: 100%; transform: translateX(0px);\">\\n <div aria-hidden=\"false\" class=\"fbs-slider__slide active primary\" data-fbs-carousel-slide-id=\"eblr1ck4d2p400\" tabindex=\"0\">\\n  <div class=\"profile-connections__item\">\\n   <div class=\"profile-connections__item-img\">\\n    <a aria-hidden=\"false\" href=\"/profile/bill-gates/\" tabindex=\"0\">\\n     <img alt=\"Graphic of Bill Gates\" src=\"https://thumbor.forbes.com/thumbor/87x87/filters%3Aformat%28jpg%29/https%3A%2F%2Fspecials-images.forbesimg.com%2Fimageserve%2F5f4ebe0c87612dab4f12a597%2F0x0.jpg%3Fbackground%3D000000%26cropX1%3D292%26cropX2%3D3684%26cropY1%3D592%26cropY2%3D3987\"/>\\n    </a>\\n   </div>\\n   <div class=\"profile-connections__item-info\">\\n    <a aria-hidden=\"false\" href=\"/profile/bill-gates/\" tabindex=\"0\">\\n     <div class=\"profile-connections__item-info--title\">\\n      Bill Gates\\n     </div>\\n    </a>\\n    <div class=\"profile-connections__item-info--text\">\\n     Related by employment: Bill &amp; Melinda Gates Foundation\\n    </div>\\n   </div>\\n  </div>\\n </div>\\n <div aria-hidden=\"false\" class=\"fbs-slider__slide active\" data-fbs-carousel-slide-id=\"9pj6gja6jjfc00\" tabindex=\"0\">\\n  <div class=\"profile-connections__item\">\\n   <div class=\"profile-connections__item-img\">\\n    <a aria-hidden=\"false\" href=\"/companies/autonation/\" tabindex=\"0\">\\n     <img alt=\"Graphic of AutoNation\" src=\"https://thumbor.forbes.com/thumbor/87x87/filters%3Aformat%28jpg%29/https%3A%2F%2Fi.forbesimg.com%2Fmedia%2Flists%2Fcompanies%2Fautonation_416x416.jpg\"/>\\n    </a>\\n   </div>\\n   <div class=\"profile-connections__item-info\">\\n    <a aria-hidden=\"false\" href=\"/companies/autonation/\" tabindex=\"0\">\\n     <div class=\"profile-connections__item-info--title\">\\n      AutoNation\\n     </div>\\n    </a>\\n    <div class=\"profile-connections__item-info--text\">\\n     Holds stake in AutoNation\\n    </div>\\n   </div>\\n  </div>\\n </div>\\n <div aria-hidden=\"false\" class=\"fbs-slider__slide active\" data-fbs-carousel-slide-id=\"24d4emam4dg600\" tabindex=\"0\">\\n  <div class=\"profile-connections__item\">\\n   <div class=\"profile-connections__item-img\">\\n    <a aria-hidden=\"false\" href=\"/colleges/duke-university/fuqua-school-of-business/\" tabindex=\"0\">\\n     <img alt=\"Graphic of Fuqua School of Business\" src=\"https://thumbor.forbes.com/thumbor/87x87/filters%3Aformat%28jpg%29/https%3A%2F%2Fspecials-images.forbesimg.com%2Fimageserve%2F5d80ff346de3150009a44a8c%2F0x0.jpg%3Fbackground%3D000000%26cropX1%3D0%26cropX2%3D416%26cropY1%3D0%26cropY2%3D416\"/>\\n    </a>\\n   </div>\\n   <div class=\"profile-connections__item-info\">\\n    <a aria-hidden=\"false\" href=\"/colleges/duke-university/fuqua-school-of-business/\" tabindex=\"0\">\\n     <div class=\"profile-connections__item-info--title\">\\n      Fuqua School of Business\\n     </div>\\n    </a>\\n    <div class=\"profile-connections__item-info--text\">\\n     Attended the school\\n    </div>\\n   </div>\\n  </div>\\n </div>\\n</div>'"
      ]
     },
     "execution_count": 137,
     "metadata": {},
     "output_type": "execute_result"
    }
   ],
   "source": [
    "re=requests.get(f'https://www.forbes.com/profile/melinda-french-gates')\n",
    "soup=BeautifulSoup(re.content, \"html.parser\")\n",
    "\n",
    "slider=soup.find(class_=\"fbs-slider__slides\")\n",
    "slider.prettify()"
   ]
  },
  {
   "cell_type": "code",
   "execution_count": null,
   "metadata": {},
   "outputs": [
    {
     "data": {
      "text/plain": [
       "{'Age': '52',\n",
       " 'Source of Wealth': 'damaged cars, Self Made',\n",
       " 'Residence': 'Dallas, Texas',\n",
       " 'Citizenship': 'United States',\n",
       " 'Marital Status': 'Married',\n",
       " 'Children': '2'}"
      ]
     },
     "metadata": {},
     "output_type": "display_data"
    }
   ],
   "source": [
    "\n",
    "stats=soup.find_all(class_=\"listuser-block__item\")\n",
    "title=[]\n",
    "value=[]\n",
    "for n_stat in stats:\n",
    "    # print(n_stat)\n",
    "    title.append(n_stat.find(class_=\"profile-stats__title\").text)\n",
    "    value.append(n_stat.find(class_=\"profile-stats__text\").text)\n",
    "\n",
    "d=dict(zip(title, value))\n",
    "d\n"
   ]
  },
  {
   "cell_type": "code",
   "execution_count": 139,
   "metadata": {},
   "outputs": [],
   "source": [
    "def get_stats(soup):\n",
    "    stats=soup.find_all(class_=\"listuser-block__item\")\n",
    "    title=[]\n",
    "    value=[]\n",
    "    for n_stat in stats:\n",
    "        # print(n_stat)\n",
    "        title.append(n_stat.find(class_=\"profile-stats__title\").text)\n",
    "        value.append(n_stat.find(class_=\"profile-stats__text\").text)\n",
    "\n",
    "    return dict(zip(title, value))\n",
    "\n",
    "\n",
    "def get_text(soup):\n",
    "    text=soup.find(class_='profile-text')\n",
    "    s=\"\"\n",
    "    for line in text.ul.children:\n",
    "        s+=(line.text)\n",
    "    return s"
   ]
  },
  {
   "cell_type": "code",
   "execution_count": 107,
   "metadata": {},
   "outputs": [
    {
     "name": "stdout",
     "output_type": "stream",
     "text": [
      "Age\n",
      "52\n",
      "Source of Wealth\n",
      "damaged cars, Self Made\n",
      "Residence\n",
      "Dallas, Texas\n",
      "Citizenship\n",
      "United States\n",
      "Marital Status\n",
      "Married\n",
      "Children\n",
      "2\n"
     ]
    }
   ],
   "source": [
    "stats=soup.find_all(class_=\"listuser-block__item\")\n",
    "for n_stat in stats:\n",
    "    for n in n_stat.children:\n",
    "        print(n.text)"
   ]
  },
  {
   "cell_type": "code",
   "execution_count": 111,
   "metadata": {},
   "outputs": [
    {
     "data": {
      "text/plain": [
       "'Age'"
      ]
     },
     "execution_count": 111,
     "metadata": {},
     "output_type": "execute_result"
    }
   ],
   "source": [
    "stats[0].find(class_=\"profile-stats__title\").text"
   ]
  },
  {
   "cell_type": "code",
   "execution_count": 90,
   "metadata": {},
   "outputs": [
    {
     "name": "stdout",
     "output_type": "stream",
     "text": [
      "A. Jayson \"Jay\" Adair is the CEO of Dallas-based Copart, a leader in online auctions for used and totaled cars.\n",
      "He joined the company in 1989 at age 19 as a manager; Copart's founder, Willis Johnson, is Adair's father-in-law.\n",
      "Adair pioneered Copart's move into online auctions in 1998, and by 2003, the company eliminated in-person bids and put auctions 100% online.\n",
      "He took over as Copart's CEO in 2010 after Johnson stepped down and now owns about 4% of the company's stock.\n",
      "As CEO, Adair expanded Copart's physical footprint to 243 locations in 11 countries.\n"
     ]
    }
   ],
   "source": [
    "for n in text.ul.children:\n",
    "    print(n.text)"
   ]
  },
  {
   "cell_type": "code",
   "execution_count": null,
   "metadata": {},
   "outputs": [],
   "source": [
    "df[\"name_og\"]=df.name\n",
    "df.name=df.name.str.replace(\" & family\", \"\")\n"
   ]
  },
  {
   "cell_type": "code",
   "execution_count": 59,
   "metadata": {},
   "outputs": [
    {
     "data": {
      "text/plain": [
       "'A. Jayson Adair'"
      ]
     },
     "execution_count": 59,
     "metadata": {},
     "output_type": "execute_result"
    }
   ],
   "source": [
    "subject = df.iloc[0]\n",
    "subject"
   ]
  },
  {
   "cell_type": "code",
   "execution_count": 62,
   "metadata": {},
   "outputs": [
    {
     "data": {
      "text/plain": [
       "{'batchcomplete': '',\n",
       " 'warnings': {'main': {'*': 'Unrecognized parameters: exintro, explaintext.'},\n",
       "  'query': {'*': 'Unrecognized value for parameter \"prop\": text'}},\n",
       " 'query': {'pages': {'62399453': {'pageid': 62399453,\n",
       "    'ns': 0,\n",
       "    'title': 'Jayson Adair'}}}}"
      ]
     },
     "execution_count": 62,
     "metadata": {},
     "output_type": "execute_result"
    }
   ],
   "source": [
    "i=0\n",
    "subject = df.iloc[i][\"name\"]\n",
    "subject='Jayson Adair'\n",
    "url = 'https://en.wikipedia.org/w/api.php'\n",
    "params = {\n",
    "        'action': 'query',\n",
    "        'format': 'json',\n",
    "        'titles': subject,\n",
    "        # 'prop': 'extracts',\n",
    "        'prop': 'text',\n",
    "        'exintro': True,\n",
    "        'explaintext': True,\n",
    "    }\n",
    " \n",
    "response = requests.get(url, params=params)\n",
    "data = response.json()\n",
    "data"
   ]
  },
  {
   "cell_type": "code",
   "execution_count": 55,
   "metadata": {},
   "outputs": [
    {
     "data": {
      "text/plain": [
       "{'batchcomplete': '',\n",
       " 'query': {'pages': {'34513': {'pageid': 34513,\n",
       "    'ns': 0,\n",
       "    'title': '0',\n",
       "    'extract': '0 (zero) is a number, and the numerical digit used to represent that number in numerals. It fulfills a central role in mathematics as the additive identity of the integers, real numbers, and many other algebraic structures. As a digit, 0 is used as a placeholder in place value systems. Names for the number 0 in English include zero, nought (UK), naught (US; ), nil, or—in contexts where at least one adjacent digit distinguishes it from the letter \"O\"—oh or o (). Informal or slang terms for zero include zilch and zip.Ought and aught (), as well as cipher, have also been used historically.'}}}}"
      ]
     },
     "execution_count": 55,
     "metadata": {},
     "output_type": "execute_result"
    }
   ],
   "source": []
  },
  {
   "cell_type": "code",
   "execution_count": null,
   "metadata": {},
   "outputs": [],
   "source": [
    "\"\"\"\n",
    "Scrapes lists from Forbes.\n",
    "Forbes API is undocumented so code could break if url structure is changed.\n",
    "\"\"\"\n",
    "\n",
    "year=2020\n",
    "# Forbes lists\n",
    "lists = [\n",
    "  { 'type': 'person', 'year': year, 'uri': 'billionaires' },                  # World richest\n",
    "    { 'type': 'person', 'year': year, 'uri': 'self-made-women' },             # American richest self-made women\n",
    "    { 'type': 'person', 'year': year, 'uri': 'richest-in-tech' },             # tech richest\n",
    "    { 'type': 'person', 'year': year, 'uri': 'hedge-fund-managers' },         # hedge fund highest-earning\n",
    "    { 'type': 'person', 'year': 2016, 'uri': 'powerful-people' },             # world powerful\n",
    "    { 'type': 'person', 'year': year, 'uri': 'power-women' },                 # world powerful women\n",
    "    { 'type': 'person', 'year': 0, 'uri': 'rtb' },                            # real-time world billionaires\n",
    "    { 'type': 'person', 'year': 0, 'uri': 'rtrl' },                           # real-time American richest 400\n",
    "]\n",
    "\n",
    "url = 'http://www.forbes.com/ajax/list/data'\n",
    "SOURCES_DIR = Path('./sources')\n",
    "\n",
    "for forbes_list in lists:\n",
    "    response = requests.get(url, params=forbes_list)\n",
    "\n",
    "    if not SOURCES_DIR.exists():\n",
    "        SOURCES_DIR.mkdir(exist_ok=True, parents=True)\n",
    "\n",
    "    DataFrame(response.json()).to_csv('sources/forbes-{}.csv'.format(forbes_list['uri']))"
   ]
  },
  {
   "cell_type": "code",
   "execution_count": null,
   "metadata": {},
   "outputs": [],
   "source": [
    "#getting forbes global2000 biggest company\n",
    "year = 2020\n",
    "\n",
    "headers = {\n",
    "    \"accept\": \"application/json, text/plain, */*\",\n",
    "    \"user-agent\": \"Mozilla/5.0 (X11; Linux x86_64) \"\n",
    "                  \"AppleWebKit/537.36 (KHTML, like Gecko) \"\n",
    "                  \"Chrome/87.0.4280.67 Safari/537.36\",\n",
    "}\n",
    "\n",
    "cookies = {\n",
    "    \"notice_behavior\": \"expressed,eu\",\n",
    "    \"notice_gdpr_prefs\": \"0,1,2:1a8b5228dd7ff0717196863a5d28ce6c\",\n",
    "}\n",
    "api_url = f\"https://www.forbes.com/forbesapi/org/global2000/{year}/position/true.json?limit=2000\"\n",
    "response = requests.get(api_url, headers=headers, cookies=cookies).json()\n",
    "df = pd.DataFrame(\n",
    "    sorted(\n",
    "        response[\"organizationList\"][\"organizationsLists\"],\n",
    "        key=lambda k: k[\"position\"],\n",
    "    )\n",
    ")\n",
    "df.to_csv(f'forbes_{year}.csv', index=False)"
   ]
  }
 ],
 "metadata": {
  "interpreter": {
   "hash": "36f498cfbb2949771975c5f6e1571140bc6d502df9654e0b70bf923b09d94215"
  },
  "kernelspec": {
   "display_name": "Python 3.9.7 64-bit",
   "language": "python",
   "name": "python3"
  },
  "language_info": {
   "codemirror_mode": {
    "name": "ipython",
    "version": 3
   },
   "file_extension": ".py",
   "mimetype": "text/x-python",
   "name": "python",
   "nbconvert_exporter": "python",
   "pygments_lexer": "ipython3",
   "version": "3.9.7"
  },
  "orig_nbformat": 4
 },
 "nbformat": 4,
 "nbformat_minor": 2
}
